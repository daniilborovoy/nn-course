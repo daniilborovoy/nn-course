{
 "cells": [
  {
   "cell_type": "markdown",
   "id": "abf187a3",
   "metadata": {},
   "source": [
    "# Students placement dataset EDA"
   ]
  },
  {
   "cell_type": "code",
   "execution_count": null,
   "id": "48f22054",
   "metadata": {},
   "outputs": [],
   "source": [
    "import pandas as pd\n",
    "\n",
    "df = pd.read_csv(\"data.csv\")"
   ]
  },
  {
   "cell_type": "code",
   "execution_count": null,
   "id": "e2d32704",
   "metadata": {},
   "outputs": [],
   "source": [
    "df.head()"
   ]
  },
  {
   "cell_type": "code",
   "execution_count": null,
   "id": "8d42f6d5",
   "metadata": {},
   "outputs": [],
   "source": [
    "df['name'].fillna('unknown', inplace=True)"
   ]
  },
  {
   "cell_type": "code",
   "execution_count": null,
   "id": "672d45e8",
   "metadata": {},
   "outputs": [],
   "source": [
    "df['name'].isna().sum()"
   ]
  },
  {
   "cell_type": "code",
   "execution_count": null,
   "id": "13bb2f11",
   "metadata": {},
   "outputs": [],
   "source": [
    "df.describe(include='all')"
   ]
  },
  {
   "cell_type": "code",
   "execution_count": null,
   "id": "b8da9a80",
   "metadata": {},
   "outputs": [],
   "source": [
    "import matplotlib.pyplot as plt\n",
    "\n",
    "numeric_cols = df.select_dtypes(include='number').columns\n",
    "df[numeric_cols].plot(kind='box', subplots=True, layout=(1, len(numeric_cols)), figsize=(5 * len(numeric_cols), 5), sharey=False)\n",
    "plt.tight_layout()\n",
    "plt.show()\n"
   ]
  },
  {
   "cell_type": "code",
   "execution_count": null,
   "id": "d8adf67d",
   "metadata": {},
   "outputs": [],
   "source": [
    "df['age'] = df['age'].fillna(0)\n",
    "df['age'] = df['age'].clip(lower=20, upper=35)"
   ]
  },
  {
   "cell_type": "code",
   "execution_count": null,
   "id": "f16ad589",
   "metadata": {},
   "outputs": [],
   "source": [
    "df.describe(include='all')"
   ]
  },
  {
   "cell_type": "code",
   "execution_count": null,
   "id": "ef4436fe",
   "metadata": {},
   "outputs": [],
   "source": [
    "import matplotlib.pyplot as plt\n",
    "\n",
    "numeric_cols = df.select_dtypes(include='number').columns\n",
    "df[numeric_cols].plot(kind='box', subplots=True, layout=(1, len(numeric_cols)), figsize=(5 * len(numeric_cols), 5), sharey=False)\n",
    "plt.tight_layout()\n",
    "plt.show()"
   ]
  },
  {
   "cell_type": "code",
   "execution_count": null,
   "id": "ca7b33e5",
   "metadata": {},
   "outputs": [],
   "source": [
    "# df['cgpa'] = df['cgpa'].clip(lower=5, upper=9)\n"
   ]
  },
  {
   "cell_type": "code",
   "execution_count": null,
   "id": "00395da3",
   "metadata": {},
   "outputs": [],
   "source": [
    "# numeric_cols = df.select_dtypes(include='number').columns\n",
    "# df[numeric_cols].plot(kind='box', subplots=True, layout=(1, len(numeric_cols)), figsize=(5 * len(numeric_cols), 5), sharey=False)\n",
    "# plt.tight_layout()\n",
    "# plt.show()"
   ]
  },
  {
   "cell_type": "code",
   "execution_count": null,
   "id": "f9763d63",
   "metadata": {},
   "outputs": [],
   "source": [
    "# df.describe(include='all')"
   ]
  },
  {
   "cell_type": "code",
   "execution_count": null,
   "id": "884e8d3f",
   "metadata": {},
   "outputs": [],
   "source": [
    "df['age'].isna().sum()"
   ]
  },
  {
   "cell_type": "code",
   "execution_count": null,
   "id": "25bfcb27",
   "metadata": {},
   "outputs": [],
   "source": [
    "print(df.isna().sum())\n"
   ]
  },
  {
   "cell_type": "code",
   "execution_count": null,
   "id": "7e053964",
   "metadata": {},
   "outputs": [],
   "source": [
    "df['city'].fillna('unknown', inplace=True)\n",
    "df['city'].isna().sum()"
   ]
  },
  {
   "cell_type": "code",
   "execution_count": null,
   "id": "557f0989",
   "metadata": {},
   "outputs": [],
   "source": [
    "df['gender'].fillna('unknown', inplace=True)\n",
    "df['gender'].isna().sum()"
   ]
  },
  {
   "cell_type": "code",
   "execution_count": null,
   "id": "f39dcd35",
   "metadata": {},
   "outputs": [],
   "source": [
    "df['profession'].fillna('unknown', inplace=True)\n",
    "df['profession'].isna().sum()"
   ]
  },
  {
   "cell_type": "code",
   "execution_count": null,
   "id": "a3146a95",
   "metadata": {},
   "outputs": [],
   "source": [
    "print(df.isna().sum())"
   ]
  },
  {
   "cell_type": "code",
   "execution_count": null,
   "id": "3f4cd039",
   "metadata": {},
   "outputs": [],
   "source": [
    "df['cgpa'] = df['cgpa'].fillna(0)"
   ]
  },
  {
   "cell_type": "code",
   "execution_count": null,
   "id": "5d03f216",
   "metadata": {},
   "outputs": [],
   "source": [
    "print(df.isna().sum())"
   ]
  },
  {
   "cell_type": "code",
   "execution_count": null,
   "id": "2ea0d3f8",
   "metadata": {},
   "outputs": [],
   "source": [
    "df.describe(include='all')"
   ]
  }
 ],
 "metadata": {
  "kernelspec": {
   "display_name": ".venv",
   "language": "python",
   "name": "python3"
  },
  "language_info": {
   "codemirror_mode": {
    "name": "ipython",
    "version": 3
   },
   "file_extension": ".py",
   "mimetype": "text/x-python",
   "name": "python",
   "nbconvert_exporter": "python",
   "pygments_lexer": "ipython3",
   "version": "3.12.5"
  }
 },
 "nbformat": 4,
 "nbformat_minor": 5
}
