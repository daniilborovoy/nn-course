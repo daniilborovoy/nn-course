{
 "cells": [
  {
   "cell_type": "markdown",
   "id": "abf187a3",
   "metadata": {},
   "source": [
    "# Students placement dataset EDA"
   ]
  },
  {
   "cell_type": "code",
   "execution_count": 117,
   "id": "48f22054",
   "metadata": {},
   "outputs": [],
   "source": [
    "import pandas as pd\n",
    "\n",
    "df = pd.read_csv(\"data.csv\")"
   ]
  },
  {
   "cell_type": "code",
   "execution_count": 118,
   "id": "e2d32704",
   "metadata": {},
   "outputs": [
    {
     "data": {
      "text/html": [
       "<div>\n",
       "<style scoped>\n",
       "    .dataframe tbody tr th:only-of-type {\n",
       "        vertical-align: middle;\n",
       "    }\n",
       "\n",
       "    .dataframe tbody tr th {\n",
       "        vertical-align: top;\n",
       "    }\n",
       "\n",
       "    .dataframe thead th {\n",
       "        text-align: right;\n",
       "    }\n",
       "</style>\n",
       "<table border=\"1\" class=\"dataframe\">\n",
       "  <thead>\n",
       "    <tr style=\"text-align: right;\">\n",
       "      <th></th>\n",
       "      <th>name</th>\n",
       "      <th>city</th>\n",
       "      <th>gender</th>\n",
       "      <th>profession</th>\n",
       "      <th>age</th>\n",
       "      <th>cgpa</th>\n",
       "      <th>placed</th>\n",
       "    </tr>\n",
       "  </thead>\n",
       "  <tbody>\n",
       "    <tr>\n",
       "      <th>0</th>\n",
       "      <td>moriarity</td>\n",
       "      <td>NaN</td>\n",
       "      <td>female</td>\n",
       "      <td>phd</td>\n",
       "      <td>28.0</td>\n",
       "      <td>5.94</td>\n",
       "      <td>1</td>\n",
       "    </tr>\n",
       "    <tr>\n",
       "      <th>1</th>\n",
       "      <td>moriarity</td>\n",
       "      <td>asgard</td>\n",
       "      <td>NaN</td>\n",
       "      <td>bachelor</td>\n",
       "      <td>50.0</td>\n",
       "      <td>8.55</td>\n",
       "      <td>0</td>\n",
       "    </tr>\n",
       "    <tr>\n",
       "      <th>2</th>\n",
       "      <td>holmes</td>\n",
       "      <td>NaN</td>\n",
       "      <td>female</td>\n",
       "      <td>masters</td>\n",
       "      <td>18.0</td>\n",
       "      <td>5.56</td>\n",
       "      <td>0</td>\n",
       "    </tr>\n",
       "    <tr>\n",
       "      <th>3</th>\n",
       "      <td>sam</td>\n",
       "      <td>NaN</td>\n",
       "      <td>male</td>\n",
       "      <td>bachelor</td>\n",
       "      <td>25.0</td>\n",
       "      <td>8.57</td>\n",
       "      <td>1</td>\n",
       "    </tr>\n",
       "    <tr>\n",
       "      <th>4</th>\n",
       "      <td>sam</td>\n",
       "      <td>NaN</td>\n",
       "      <td>male</td>\n",
       "      <td>bachelor</td>\n",
       "      <td>19.0</td>\n",
       "      <td>8.76</td>\n",
       "      <td>1</td>\n",
       "    </tr>\n",
       "    <tr>\n",
       "      <th>5</th>\n",
       "      <td>bobby</td>\n",
       "      <td>purgatory</td>\n",
       "      <td>male</td>\n",
       "      <td>bachelor</td>\n",
       "      <td>20.0</td>\n",
       "      <td>7.68</td>\n",
       "      <td>0</td>\n",
       "    </tr>\n",
       "    <tr>\n",
       "      <th>6</th>\n",
       "      <td>NaN</td>\n",
       "      <td>wakanda</td>\n",
       "      <td>male</td>\n",
       "      <td>NaN</td>\n",
       "      <td>20.0</td>\n",
       "      <td>9.01</td>\n",
       "      <td>0</td>\n",
       "    </tr>\n",
       "    <tr>\n",
       "      <th>7</th>\n",
       "      <td>NaN</td>\n",
       "      <td>wakanda</td>\n",
       "      <td>male</td>\n",
       "      <td>bachelor</td>\n",
       "      <td>20.0</td>\n",
       "      <td>8.31</td>\n",
       "      <td>0</td>\n",
       "    </tr>\n",
       "    <tr>\n",
       "      <th>8</th>\n",
       "      <td>moriarity</td>\n",
       "      <td>asgard</td>\n",
       "      <td>female</td>\n",
       "      <td>NaN</td>\n",
       "      <td>19.0</td>\n",
       "      <td>7.20</td>\n",
       "      <td>0</td>\n",
       "    </tr>\n",
       "    <tr>\n",
       "      <th>9</th>\n",
       "      <td>castiel</td>\n",
       "      <td>NaN</td>\n",
       "      <td>female</td>\n",
       "      <td>masters</td>\n",
       "      <td>NaN</td>\n",
       "      <td>8.35</td>\n",
       "      <td>1</td>\n",
       "    </tr>\n",
       "  </tbody>\n",
       "</table>\n",
       "</div>"
      ],
      "text/plain": [
       "        name        city  gender profession   age  cgpa  placed\n",
       "0  moriarity         NaN  female        phd  28.0  5.94       1\n",
       "1  moriarity      asgard     NaN   bachelor  50.0  8.55       0\n",
       "2     holmes         NaN  female    masters  18.0  5.56       0\n",
       "3        sam         NaN    male   bachelor  25.0  8.57       1\n",
       "4        sam         NaN    male   bachelor  19.0  8.76       1\n",
       "5      bobby  purgatory     male   bachelor  20.0  7.68       0\n",
       "6        NaN     wakanda    male        NaN  20.0  9.01       0\n",
       "7        NaN     wakanda    male   bachelor  20.0  8.31       0\n",
       "8  moriarity      asgard  female        NaN  19.0  7.20       0\n",
       "9    castiel         NaN  female    masters   NaN  8.35       1"
      ]
     },
     "execution_count": 118,
     "metadata": {},
     "output_type": "execute_result"
    }
   ],
   "source": [
    "df.head(10)"
   ]
  },
  {
   "cell_type": "code",
   "execution_count": 119,
   "id": "8d42f6d5",
   "metadata": {},
   "outputs": [
    {
     "name": "stderr",
     "output_type": "stream",
     "text": [
      "C:\\Users\\danii\\AppData\\Local\\Temp\\ipykernel_3528\\1146368269.py:1: FutureWarning: A value is trying to be set on a copy of a DataFrame or Series through chained assignment using an inplace method.\n",
      "The behavior will change in pandas 3.0. This inplace method will never work because the intermediate object on which we are setting values always behaves as a copy.\n",
      "\n",
      "For example, when doing 'df[col].method(value, inplace=True)', try using 'df.method({col: value}, inplace=True)' or df[col] = df[col].method(value) instead, to perform the operation inplace on the original object.\n",
      "\n",
      "\n",
      "  df['name'].fillna('unknown', inplace=True)\n"
     ]
    }
   ],
   "source": [
    "df['name'].fillna('unknown', inplace=True)"
   ]
  },
  {
   "cell_type": "code",
   "execution_count": 120,
   "id": "672d45e8",
   "metadata": {},
   "outputs": [
    {
     "data": {
      "text/plain": [
       "np.int64(0)"
      ]
     },
     "execution_count": 120,
     "metadata": {},
     "output_type": "execute_result"
    }
   ],
   "source": [
    "df['name'].isna().sum()"
   ]
  },
  {
   "cell_type": "code",
   "execution_count": 121,
   "id": "13bb2f11",
   "metadata": {},
   "outputs": [
    {
     "data": {
      "text/html": [
       "<div>\n",
       "<style scoped>\n",
       "    .dataframe tbody tr th:only-of-type {\n",
       "        vertical-align: middle;\n",
       "    }\n",
       "\n",
       "    .dataframe tbody tr th {\n",
       "        vertical-align: top;\n",
       "    }\n",
       "\n",
       "    .dataframe thead th {\n",
       "        text-align: right;\n",
       "    }\n",
       "</style>\n",
       "<table border=\"1\" class=\"dataframe\">\n",
       "  <thead>\n",
       "    <tr style=\"text-align: right;\">\n",
       "      <th></th>\n",
       "      <th>name</th>\n",
       "      <th>city</th>\n",
       "      <th>gender</th>\n",
       "      <th>profession</th>\n",
       "      <th>age</th>\n",
       "      <th>cgpa</th>\n",
       "      <th>placed</th>\n",
       "    </tr>\n",
       "  </thead>\n",
       "  <tbody>\n",
       "    <tr>\n",
       "      <th>count</th>\n",
       "      <td>1100</td>\n",
       "      <td>905</td>\n",
       "      <td>994</td>\n",
       "      <td>921</td>\n",
       "      <td>982.000000</td>\n",
       "      <td>962.000000</td>\n",
       "      <td>1100.000000</td>\n",
       "    </tr>\n",
       "    <tr>\n",
       "      <th>unique</th>\n",
       "      <td>9</td>\n",
       "      <td>4</td>\n",
       "      <td>2</td>\n",
       "      <td>3</td>\n",
       "      <td>NaN</td>\n",
       "      <td>NaN</td>\n",
       "      <td>NaN</td>\n",
       "    </tr>\n",
       "    <tr>\n",
       "      <th>top</th>\n",
       "      <td>moriarity</td>\n",
       "      <td>wakanda</td>\n",
       "      <td>male</td>\n",
       "      <td>bachelor</td>\n",
       "      <td>NaN</td>\n",
       "      <td>NaN</td>\n",
       "      <td>NaN</td>\n",
       "    </tr>\n",
       "    <tr>\n",
       "      <th>freq</th>\n",
       "      <td>280</td>\n",
       "      <td>391</td>\n",
       "      <td>760</td>\n",
       "      <td>517</td>\n",
       "      <td>NaN</td>\n",
       "      <td>NaN</td>\n",
       "      <td>NaN</td>\n",
       "    </tr>\n",
       "    <tr>\n",
       "      <th>mean</th>\n",
       "      <td>NaN</td>\n",
       "      <td>NaN</td>\n",
       "      <td>NaN</td>\n",
       "      <td>NaN</td>\n",
       "      <td>28.429735</td>\n",
       "      <td>7.609033</td>\n",
       "      <td>0.499091</td>\n",
       "    </tr>\n",
       "    <tr>\n",
       "      <th>std</th>\n",
       "      <td>NaN</td>\n",
       "      <td>NaN</td>\n",
       "      <td>NaN</td>\n",
       "      <td>NaN</td>\n",
       "      <td>9.141244</td>\n",
       "      <td>1.495991</td>\n",
       "      <td>0.500227</td>\n",
       "    </tr>\n",
       "    <tr>\n",
       "      <th>min</th>\n",
       "      <td>NaN</td>\n",
       "      <td>NaN</td>\n",
       "      <td>NaN</td>\n",
       "      <td>NaN</td>\n",
       "      <td>18.000000</td>\n",
       "      <td>4.010000</td>\n",
       "      <td>0.000000</td>\n",
       "    </tr>\n",
       "    <tr>\n",
       "      <th>25%</th>\n",
       "      <td>NaN</td>\n",
       "      <td>NaN</td>\n",
       "      <td>NaN</td>\n",
       "      <td>NaN</td>\n",
       "      <td>22.000000</td>\n",
       "      <td>7.170000</td>\n",
       "      <td>0.000000</td>\n",
       "    </tr>\n",
       "    <tr>\n",
       "      <th>50%</th>\n",
       "      <td>NaN</td>\n",
       "      <td>NaN</td>\n",
       "      <td>NaN</td>\n",
       "      <td>NaN</td>\n",
       "      <td>26.000000</td>\n",
       "      <td>7.925000</td>\n",
       "      <td>0.000000</td>\n",
       "    </tr>\n",
       "    <tr>\n",
       "      <th>75%</th>\n",
       "      <td>NaN</td>\n",
       "      <td>NaN</td>\n",
       "      <td>NaN</td>\n",
       "      <td>NaN</td>\n",
       "      <td>30.000000</td>\n",
       "      <td>8.760000</td>\n",
       "      <td>1.000000</td>\n",
       "    </tr>\n",
       "    <tr>\n",
       "      <th>max</th>\n",
       "      <td>NaN</td>\n",
       "      <td>NaN</td>\n",
       "      <td>NaN</td>\n",
       "      <td>NaN</td>\n",
       "      <td>50.000000</td>\n",
       "      <td>9.490000</td>\n",
       "      <td>1.000000</td>\n",
       "    </tr>\n",
       "  </tbody>\n",
       "</table>\n",
       "</div>"
      ],
      "text/plain": [
       "             name     city gender profession         age        cgpa  \\\n",
       "count        1100      905    994        921  982.000000  962.000000   \n",
       "unique          9        4      2          3         NaN         NaN   \n",
       "top     moriarity  wakanda   male   bachelor         NaN         NaN   \n",
       "freq          280      391    760        517         NaN         NaN   \n",
       "mean          NaN      NaN    NaN        NaN   28.429735    7.609033   \n",
       "std           NaN      NaN    NaN        NaN    9.141244    1.495991   \n",
       "min           NaN      NaN    NaN        NaN   18.000000    4.010000   \n",
       "25%           NaN      NaN    NaN        NaN   22.000000    7.170000   \n",
       "50%           NaN      NaN    NaN        NaN   26.000000    7.925000   \n",
       "75%           NaN      NaN    NaN        NaN   30.000000    8.760000   \n",
       "max           NaN      NaN    NaN        NaN   50.000000    9.490000   \n",
       "\n",
       "             placed  \n",
       "count   1100.000000  \n",
       "unique          NaN  \n",
       "top             NaN  \n",
       "freq            NaN  \n",
       "mean       0.499091  \n",
       "std        0.500227  \n",
       "min        0.000000  \n",
       "25%        0.000000  \n",
       "50%        0.000000  \n",
       "75%        1.000000  \n",
       "max        1.000000  "
      ]
     },
     "execution_count": 121,
     "metadata": {},
     "output_type": "execute_result"
    }
   ],
   "source": [
    "df.describe(include='all')"
   ]
  },
  {
   "cell_type": "code",
   "execution_count": 122,
   "id": "b8da9a80",
   "metadata": {},
   "outputs": [
    {
     "data": {
      "image/png": "[encoded data removed]",
      "text/plain": [
       "<Figure size 1500x500 with 3 Axes>"
      ]
     },
     "metadata": {},
     "output_type": "display_data"
    }
   ],
   "source": [
    "import matplotlib.pyplot as plt\n",
    "\n",
    "numeric_cols = df.select_dtypes(include='number').columns\n",
    "df[numeric_cols].plot(kind='box', subplots=True, layout=(1, len(numeric_cols)), figsize=(5 * len(numeric_cols), 5), sharey=False)\n",
    "plt.tight_layout()\n",
    "plt.show()\n"
   ]
  },
  {
   "cell_type": "code",
   "execution_count": 123,
   "id": "d8adf67d",
   "metadata": {},
   "outputs": [],
   "source": [
    "df['age'] = df['age'].fillna(0)\n",
    "df['age'] = df['age'].clip(lower=20, upper=35)"
   ]
  },
  {
   "cell_type": "code",
   "execution_count": 124,
   "id": "f16ad589",
   "metadata": {},
   "outputs": [
    {
     "data": {
      "text/html": [
       "<div>\n",
       "<style scoped>\n",
       "    .dataframe tbody tr th:only-of-type {\n",
       "        vertical-align: middle;\n",
       "    }\n",
       "\n",
       "    .dataframe tbody tr th {\n",
       "        vertical-align: top;\n",
       "    }\n",
       "\n",
       "    .dataframe thead th {\n",
       "        text-align: right;\n",
       "    }\n",
       "</style>\n",
       "<table border=\"1\" class=\"dataframe\">\n",
       "  <thead>\n",
       "    <tr style=\"text-align: right;\">\n",
       "      <th></th>\n",
       "      <th>name</th>\n",
       "      <th>city</th>\n",
       "      <th>gender</th>\n",
       "      <th>profession</th>\n",
       "      <th>age</th>\n",
       "      <th>cgpa</th>\n",
       "      <th>placed</th>\n",
       "    </tr>\n",
       "  </thead>\n",
       "  <tbody>\n",
       "    <tr>\n",
       "      <th>count</th>\n",
       "      <td>1100</td>\n",
       "      <td>905</td>\n",
       "      <td>994</td>\n",
       "      <td>921</td>\n",
       "      <td>1100.000000</td>\n",
       "      <td>962.000000</td>\n",
       "      <td>1100.000000</td>\n",
       "    </tr>\n",
       "    <tr>\n",
       "      <th>unique</th>\n",
       "      <td>9</td>\n",
       "      <td>4</td>\n",
       "      <td>2</td>\n",
       "      <td>3</td>\n",
       "      <td>NaN</td>\n",
       "      <td>NaN</td>\n",
       "      <td>NaN</td>\n",
       "    </tr>\n",
       "    <tr>\n",
       "      <th>top</th>\n",
       "      <td>moriarity</td>\n",
       "      <td>wakanda</td>\n",
       "      <td>male</td>\n",
       "      <td>bachelor</td>\n",
       "      <td>NaN</td>\n",
       "      <td>NaN</td>\n",
       "      <td>NaN</td>\n",
       "    </tr>\n",
       "    <tr>\n",
       "      <th>freq</th>\n",
       "      <td>280</td>\n",
       "      <td>391</td>\n",
       "      <td>760</td>\n",
       "      <td>517</td>\n",
       "      <td>NaN</td>\n",
       "      <td>NaN</td>\n",
       "      <td>NaN</td>\n",
       "    </tr>\n",
       "    <tr>\n",
       "      <th>mean</th>\n",
       "      <td>NaN</td>\n",
       "      <td>NaN</td>\n",
       "      <td>NaN</td>\n",
       "      <td>NaN</td>\n",
       "      <td>25.855455</td>\n",
       "      <td>7.609033</td>\n",
       "      <td>0.499091</td>\n",
       "    </tr>\n",
       "    <tr>\n",
       "      <th>std</th>\n",
       "      <td>NaN</td>\n",
       "      <td>NaN</td>\n",
       "      <td>NaN</td>\n",
       "      <td>NaN</td>\n",
       "      <td>5.368836</td>\n",
       "      <td>1.495991</td>\n",
       "      <td>0.500227</td>\n",
       "    </tr>\n",
       "    <tr>\n",
       "      <th>min</th>\n",
       "      <td>NaN</td>\n",
       "      <td>NaN</td>\n",
       "      <td>NaN</td>\n",
       "      <td>NaN</td>\n",
       "      <td>20.000000</td>\n",
       "      <td>4.010000</td>\n",
       "      <td>0.000000</td>\n",
       "    </tr>\n",
       "    <tr>\n",
       "      <th>25%</th>\n",
       "      <td>NaN</td>\n",
       "      <td>NaN</td>\n",
       "      <td>NaN</td>\n",
       "      <td>NaN</td>\n",
       "      <td>20.000000</td>\n",
       "      <td>7.170000</td>\n",
       "      <td>0.000000</td>\n",
       "    </tr>\n",
       "    <tr>\n",
       "      <th>50%</th>\n",
       "      <td>NaN</td>\n",
       "      <td>NaN</td>\n",
       "      <td>NaN</td>\n",
       "      <td>NaN</td>\n",
       "      <td>25.000000</td>\n",
       "      <td>7.925000</td>\n",
       "      <td>0.000000</td>\n",
       "    </tr>\n",
       "    <tr>\n",
       "      <th>75%</th>\n",
       "      <td>NaN</td>\n",
       "      <td>NaN</td>\n",
       "      <td>NaN</td>\n",
       "      <td>NaN</td>\n",
       "      <td>29.000000</td>\n",
       "      <td>8.760000</td>\n",
       "      <td>1.000000</td>\n",
       "    </tr>\n",
       "    <tr>\n",
       "      <th>max</th>\n",
       "      <td>NaN</td>\n",
       "      <td>NaN</td>\n",
       "      <td>NaN</td>\n",
       "      <td>NaN</td>\n",
       "      <td>35.000000</td>\n",
       "      <td>9.490000</td>\n",
       "      <td>1.000000</td>\n",
       "    </tr>\n",
       "  </tbody>\n",
       "</table>\n",
       "</div>"
      ],
      "text/plain": [
       "             name     city gender profession          age        cgpa  \\\n",
       "count        1100      905    994        921  1100.000000  962.000000   \n",
       "unique          9        4      2          3          NaN         NaN   \n",
       "top     moriarity  wakanda   male   bachelor          NaN         NaN   \n",
       "freq          280      391    760        517          NaN         NaN   \n",
       "mean          NaN      NaN    NaN        NaN    25.855455    7.609033   \n",
       "std           NaN      NaN    NaN        NaN     5.368836    1.495991   \n",
       "min           NaN      NaN    NaN        NaN    20.000000    4.010000   \n",
       "25%           NaN      NaN    NaN        NaN    20.000000    7.170000   \n",
       "50%           NaN      NaN    NaN        NaN    25.000000    7.925000   \n",
       "75%           NaN      NaN    NaN        NaN    29.000000    8.760000   \n",
       "max           NaN      NaN    NaN        NaN    35.000000    9.490000   \n",
       "\n",
       "             placed  \n",
       "count   1100.000000  \n",
       "unique          NaN  \n",
       "top             NaN  \n",
       "freq            NaN  \n",
       "mean       0.499091  \n",
       "std        0.500227  \n",
       "min        0.000000  \n",
       "25%        0.000000  \n",
       "50%        0.000000  \n",
       "75%        1.000000  \n",
       "max        1.000000  "
      ]
     },
     "execution_count": 124,
     "metadata": {},
     "output_type": "execute_result"
    }
   ],
   "source": [
    "df.describe(include='all')"
   ]
  },
  {
   "cell_type": "code",
   "execution_count": 125,
   "id": "ef4436fe",
   "metadata": {},
   "outputs": [
    {
     "data": {
      "image/png": "[encoded data removed]",
      "text/plain": [
       "<Figure size 1500x500 with 3 Axes>"
      ]
     },
     "metadata": {},
     "output_type": "display_data"
    }
   ],
   "source": [
    "import matplotlib.pyplot as plt\n",
    "\n",
    "numeric_cols = df.select_dtypes(include='number').columns\n",
    "df[numeric_cols].plot(kind='box', subplots=True, layout=(1, len(numeric_cols)), figsize=(5 * len(numeric_cols), 5), sharey=False)\n",
    "plt.tight_layout()\n",
    "plt.show()"
   ]
  },
  {
   "cell_type": "code",
   "execution_count": 126,
   "id": "ca7b33e5",
   "metadata": {},
   "outputs": [],
   "source": [
    "# df['cgpa'] = df['cgpa'].clip(lower=5, upper=9)\n"
   ]
  },
  {
   "cell_type": "code",
   "execution_count": 127,
   "id": "00395da3",
   "metadata": {},
   "outputs": [],
   "source": [
    "# numeric_cols = df.select_dtypes(include='number').columns\n",
    "# df[numeric_cols].plot(kind='box', subplots=True, layout=(1, len(numeric_cols)), figsize=(5 * len(numeric_cols), 5), sharey=False)\n",
    "# plt.tight_layout()\n",
    "# plt.show()"
   ]
  },
  {
   "cell_type": "code",
   "execution_count": 128,
   "id": "f9763d63",
   "metadata": {},
   "outputs": [],
   "source": [
    "# df.describe(include='all')"
   ]
  },
  {
   "cell_type": "code",
   "execution_count": 129,
   "id": "884e8d3f",
   "metadata": {},
   "outputs": [
    {
     "data": {
      "text/plain": [
       "np.int64(0)"
      ]
     },
     "execution_count": 129,
     "metadata": {},
     "output_type": "execute_result"
    }
   ],
   "source": [
    "df['age'].isna().sum()"
   ]
  },
  {
   "cell_type": "code",
   "execution_count": null,
   "id": "25bfcb27",
   "metadata": {},
   "outputs": [
    {
     "name": "stdout",
     "output_type": "stream",
     "text": [
      "name            0\n",
      "city          195\n",
      "gender        106\n",
      "profession    179\n",
      "age             0\n",
      "cgpa          138\n",
      "placed          0\n",
      "dtype: int64\n"
     ]
    }
   ],
   "source": [
    "print(df.isna().sum())\n"
   ]
  },
  {
   "cell_type": "code",
   "execution_count": 132,
   "id": "7e053964",
   "metadata": {},
   "outputs": [
    {
     "data": {
      "text/plain": [
       "np.int64(0)"
      ]
     },
     "execution_count": 132,
     "metadata": {},
     "output_type": "execute_result"
    }
   ],
   "source": [
    "df['city'].fillna('unknown', inplace=True)\n",
    "df['city'].isna().sum()"
   ]
  },
  {
   "cell_type": "code",
   "execution_count": 133,
   "id": "557f0989",
   "metadata": {},
   "outputs": [
    {
     "name": "stderr",
     "output_type": "stream",
     "text": [
      "C:\\Users\\danii\\AppData\\Local\\Temp\\ipykernel_3528\\216788189.py:1: FutureWarning: A value is trying to be set on a copy of a DataFrame or Series through chained assignment using an inplace method.\n",
      "The behavior will change in pandas 3.0. This inplace method will never work because the intermediate object on which we are setting values always behaves as a copy.\n",
      "\n",
      "For example, when doing 'df[col].method(value, inplace=True)', try using 'df.method({col: value}, inplace=True)' or df[col] = df[col].method(value) instead, to perform the operation inplace on the original object.\n",
      "\n",
      "\n",
      "  df['gender'].fillna('unknown', inplace=True)\n"
     ]
    },
    {
     "data": {
      "text/plain": [
       "np.int64(0)"
      ]
     },
     "execution_count": 133,
     "metadata": {},
     "output_type": "execute_result"
    }
   ],
   "source": [
    "df['gender'].fillna('unknown', inplace=True)\n",
    "df['gender'].isna().sum()"
   ]
  },
  {
   "cell_type": "code",
   "execution_count": 134,
   "id": "f39dcd35",
   "metadata": {},
   "outputs": [
    {
     "name": "stderr",
     "output_type": "stream",
     "text": [
      "C:\\Users\\danii\\AppData\\Local\\Temp\\ipykernel_3528\\764807980.py:1: FutureWarning: A value is trying to be set on a copy of a DataFrame or Series through chained assignment using an inplace method.\n",
      "The behavior will change in pandas 3.0. This inplace method will never work because the intermediate object on which we are setting values always behaves as a copy.\n",
      "\n",
      "For example, when doing 'df[col].method(value, inplace=True)', try using 'df.method({col: value}, inplace=True)' or df[col] = df[col].method(value) instead, to perform the operation inplace on the original object.\n",
      "\n",
      "\n",
      "  df['profession'].fillna('unknown', inplace=True)\n"
     ]
    },
    {
     "data": {
      "text/plain": [
       "np.int64(0)"
      ]
     },
     "execution_count": 134,
     "metadata": {},
     "output_type": "execute_result"
    }
   ],
   "source": [
    "df['profession'].fillna('unknown', inplace=True)\n",
    "df['profession'].isna().sum()"
   ]
  },
  {
   "cell_type": "code",
   "execution_count": 135,
   "id": "a3146a95",
   "metadata": {},
   "outputs": [
    {
     "name": "stdout",
     "output_type": "stream",
     "text": [
      "name            0\n",
      "city            0\n",
      "gender          0\n",
      "profession      0\n",
      "age             0\n",
      "cgpa          138\n",
      "placed          0\n",
      "dtype: int64\n"
     ]
    }
   ],
   "source": [
    "print(df.isna().sum())"
   ]
  },
  {
   "cell_type": "code",
   "execution_count": 136,
   "id": "3f4cd039",
   "metadata": {},
   "outputs": [],
   "source": [
    "df['cgpa'] = df['cgpa'].fillna(0)"
   ]
  },
  {
   "cell_type": "code",
   "execution_count": 137,
   "id": "5d03f216",
   "metadata": {},
   "outputs": [
    {
     "name": "stdout",
     "output_type": "stream",
     "text": [
      "name          0\n",
      "city          0\n",
      "gender        0\n",
      "profession    0\n",
      "age           0\n",
      "cgpa          0\n",
      "placed        0\n",
      "dtype: int64\n"
     ]
    }
   ],
   "source": [
    "print(df.isna().sum())"
   ]
  },
  {
   "cell_type": "code",
   "execution_count": 138,
   "id": "2ea0d3f8",
   "metadata": {},
   "outputs": [
    {
     "data": {
      "text/html": [
       "<div>\n",
       "<style scoped>\n",
       "    .dataframe tbody tr th:only-of-type {\n",
       "        vertical-align: middle;\n",
       "    }\n",
       "\n",
       "    .dataframe tbody tr th {\n",
       "        vertical-align: top;\n",
       "    }\n",
       "\n",
       "    .dataframe thead th {\n",
       "        text-align: right;\n",
       "    }\n",
       "</style>\n",
       "<table border=\"1\" class=\"dataframe\">\n",
       "  <thead>\n",
       "    <tr style=\"text-align: right;\">\n",
       "      <th></th>\n",
       "      <th>name</th>\n",
       "      <th>city</th>\n",
       "      <th>gender</th>\n",
       "      <th>profession</th>\n",
       "      <th>age</th>\n",
       "      <th>cgpa</th>\n",
       "      <th>placed</th>\n",
       "    </tr>\n",
       "  </thead>\n",
       "  <tbody>\n",
       "    <tr>\n",
       "      <th>count</th>\n",
       "      <td>1100</td>\n",
       "      <td>1100</td>\n",
       "      <td>1100</td>\n",
       "      <td>1100</td>\n",
       "      <td>1100.000000</td>\n",
       "      <td>1100.000000</td>\n",
       "      <td>1100.000000</td>\n",
       "    </tr>\n",
       "    <tr>\n",
       "      <th>unique</th>\n",
       "      <td>9</td>\n",
       "      <td>5</td>\n",
       "      <td>3</td>\n",
       "      <td>4</td>\n",
       "      <td>NaN</td>\n",
       "      <td>NaN</td>\n",
       "      <td>NaN</td>\n",
       "    </tr>\n",
       "    <tr>\n",
       "      <th>top</th>\n",
       "      <td>moriarity</td>\n",
       "      <td>wakanda</td>\n",
       "      <td>male</td>\n",
       "      <td>bachelor</td>\n",
       "      <td>NaN</td>\n",
       "      <td>NaN</td>\n",
       "      <td>NaN</td>\n",
       "    </tr>\n",
       "    <tr>\n",
       "      <th>freq</th>\n",
       "      <td>280</td>\n",
       "      <td>391</td>\n",
       "      <td>760</td>\n",
       "      <td>517</td>\n",
       "      <td>NaN</td>\n",
       "      <td>NaN</td>\n",
       "      <td>NaN</td>\n",
       "    </tr>\n",
       "    <tr>\n",
       "      <th>mean</th>\n",
       "      <td>NaN</td>\n",
       "      <td>NaN</td>\n",
       "      <td>NaN</td>\n",
       "      <td>NaN</td>\n",
       "      <td>25.855455</td>\n",
       "      <td>6.654445</td>\n",
       "      <td>0.499091</td>\n",
       "    </tr>\n",
       "    <tr>\n",
       "      <th>std</th>\n",
       "      <td>NaN</td>\n",
       "      <td>NaN</td>\n",
       "      <td>NaN</td>\n",
       "      <td>NaN</td>\n",
       "      <td>5.368836</td>\n",
       "      <td>2.883574</td>\n",
       "      <td>0.500227</td>\n",
       "    </tr>\n",
       "    <tr>\n",
       "      <th>min</th>\n",
       "      <td>NaN</td>\n",
       "      <td>NaN</td>\n",
       "      <td>NaN</td>\n",
       "      <td>NaN</td>\n",
       "      <td>20.000000</td>\n",
       "      <td>0.000000</td>\n",
       "      <td>0.000000</td>\n",
       "    </tr>\n",
       "    <tr>\n",
       "      <th>25%</th>\n",
       "      <td>NaN</td>\n",
       "      <td>NaN</td>\n",
       "      <td>NaN</td>\n",
       "      <td>NaN</td>\n",
       "      <td>20.000000</td>\n",
       "      <td>5.465000</td>\n",
       "      <td>0.000000</td>\n",
       "    </tr>\n",
       "    <tr>\n",
       "      <th>50%</th>\n",
       "      <td>NaN</td>\n",
       "      <td>NaN</td>\n",
       "      <td>NaN</td>\n",
       "      <td>NaN</td>\n",
       "      <td>25.000000</td>\n",
       "      <td>7.730000</td>\n",
       "      <td>0.000000</td>\n",
       "    </tr>\n",
       "    <tr>\n",
       "      <th>75%</th>\n",
       "      <td>NaN</td>\n",
       "      <td>NaN</td>\n",
       "      <td>NaN</td>\n",
       "      <td>NaN</td>\n",
       "      <td>29.000000</td>\n",
       "      <td>8.640000</td>\n",
       "      <td>1.000000</td>\n",
       "    </tr>\n",
       "    <tr>\n",
       "      <th>max</th>\n",
       "      <td>NaN</td>\n",
       "      <td>NaN</td>\n",
       "      <td>NaN</td>\n",
       "      <td>NaN</td>\n",
       "      <td>35.000000</td>\n",
       "      <td>9.490000</td>\n",
       "      <td>1.000000</td>\n",
       "    </tr>\n",
       "  </tbody>\n",
       "</table>\n",
       "</div>"
      ],
      "text/plain": [
       "             name     city gender profession          age         cgpa  \\\n",
       "count        1100     1100   1100       1100  1100.000000  1100.000000   \n",
       "unique          9        5      3          4          NaN          NaN   \n",
       "top     moriarity  wakanda   male   bachelor          NaN          NaN   \n",
       "freq          280      391    760        517          NaN          NaN   \n",
       "mean          NaN      NaN    NaN        NaN    25.855455     6.654445   \n",
       "std           NaN      NaN    NaN        NaN     5.368836     2.883574   \n",
       "min           NaN      NaN    NaN        NaN    20.000000     0.000000   \n",
       "25%           NaN      NaN    NaN        NaN    20.000000     5.465000   \n",
       "50%           NaN      NaN    NaN        NaN    25.000000     7.730000   \n",
       "75%           NaN      NaN    NaN        NaN    29.000000     8.640000   \n",
       "max           NaN      NaN    NaN        NaN    35.000000     9.490000   \n",
       "\n",
       "             placed  \n",
       "count   1100.000000  \n",
       "unique          NaN  \n",
       "top             NaN  \n",
       "freq            NaN  \n",
       "mean       0.499091  \n",
       "std        0.500227  \n",
       "min        0.000000  \n",
       "25%        0.000000  \n",
       "50%        0.000000  \n",
       "75%        1.000000  \n",
       "max        1.000000  "
      ]
     },
     "execution_count": 138,
     "metadata": {},
     "output_type": "execute_result"
    }
   ],
   "source": [
    "df.describe(include='all')"
   ]
  }
 ],
 "metadata": {
  "kernelspec": {
   "display_name": ".venv",
   "language": "python",
   "name": "python3"
  },
  "language_info": {
   "codemirror_mode": {
    "name": "ipython",
    "version": 3
   },
   "file_extension": ".py",
   "mimetype": "text/x-python",
   "name": "python",
   "nbconvert_exporter": "python",
   "pygments_lexer": "ipython3",
   "version": "3.12.5"
  }
 },
 "nbformat": 4,
 "nbformat_minor": 5
}
