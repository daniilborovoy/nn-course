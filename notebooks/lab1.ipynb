{
 "cells": [
  {
   "cell_type": "markdown",
   "id": "abf187a3",
   "metadata": {},
   "source": [
    "# Students placement dataset EDA"
   ]
  },
  {
   "cell_type": "code",
   "execution_count": 247,
   "id": "48f22054",
   "metadata": {},
   "outputs": [],
   "source": [
    "import pandas as pd\n",
    "\n",
    "df = pd.read_csv(\"data.csv\")"
   ]
  },
  {
   "cell_type": "code",
   "execution_count": 248,
   "id": "e2d32704",
   "metadata": {},
   "outputs": [
    {
     "data": {
      "text/html": [
       "<div>\n",
       "<style scoped>\n",
       "    .dataframe tbody tr th:only-of-type {\n",
       "        vertical-align: middle;\n",
       "    }\n",
       "\n",
       "    .dataframe tbody tr th {\n",
       "        vertical-align: top;\n",
       "    }\n",
       "\n",
       "    .dataframe thead th {\n",
       "        text-align: right;\n",
       "    }\n",
       "</style>\n",
       "<table border=\"1\" class=\"dataframe\">\n",
       "  <thead>\n",
       "    <tr style=\"text-align: right;\">\n",
       "      <th></th>\n",
       "      <th>name</th>\n",
       "      <th>city</th>\n",
       "      <th>gender</th>\n",
       "      <th>profession</th>\n",
       "      <th>age</th>\n",
       "      <th>cgpa</th>\n",
       "      <th>placed</th>\n",
       "    </tr>\n",
       "  </thead>\n",
       "  <tbody>\n",
       "    <tr>\n",
       "      <th>0</th>\n",
       "      <td>moriarity</td>\n",
       "      <td>NaN</td>\n",
       "      <td>female</td>\n",
       "      <td>phd</td>\n",
       "      <td>28.0</td>\n",
       "      <td>5.94</td>\n",
       "      <td>1</td>\n",
       "    </tr>\n",
       "    <tr>\n",
       "      <th>1</th>\n",
       "      <td>moriarity</td>\n",
       "      <td>asgard</td>\n",
       "      <td>NaN</td>\n",
       "      <td>bachelor</td>\n",
       "      <td>50.0</td>\n",
       "      <td>8.55</td>\n",
       "      <td>0</td>\n",
       "    </tr>\n",
       "    <tr>\n",
       "      <th>2</th>\n",
       "      <td>holmes</td>\n",
       "      <td>NaN</td>\n",
       "      <td>female</td>\n",
       "      <td>masters</td>\n",
       "      <td>18.0</td>\n",
       "      <td>5.56</td>\n",
       "      <td>0</td>\n",
       "    </tr>\n",
       "    <tr>\n",
       "      <th>3</th>\n",
       "      <td>sam</td>\n",
       "      <td>NaN</td>\n",
       "      <td>male</td>\n",
       "      <td>bachelor</td>\n",
       "      <td>25.0</td>\n",
       "      <td>8.57</td>\n",
       "      <td>1</td>\n",
       "    </tr>\n",
       "    <tr>\n",
       "      <th>4</th>\n",
       "      <td>sam</td>\n",
       "      <td>NaN</td>\n",
       "      <td>male</td>\n",
       "      <td>bachelor</td>\n",
       "      <td>19.0</td>\n",
       "      <td>8.76</td>\n",
       "      <td>1</td>\n",
       "    </tr>\n",
       "  </tbody>\n",
       "</table>\n",
       "</div>"
      ],
      "text/plain": [
       "        name    city  gender profession   age  cgpa  placed\n",
       "0  moriarity     NaN  female        phd  28.0  5.94       1\n",
       "1  moriarity  asgard     NaN   bachelor  50.0  8.55       0\n",
       "2     holmes     NaN  female    masters  18.0  5.56       0\n",
       "3        sam     NaN    male   bachelor  25.0  8.57       1\n",
       "4        sam     NaN    male   bachelor  19.0  8.76       1"
      ]
     },
     "execution_count": 248,
     "metadata": {},
     "output_type": "execute_result"
    }
   ],
   "source": [
    "df.head()"
   ]
  },
  {
   "cell_type": "code",
   "execution_count": 249,
   "id": "ada8b6a8",
   "metadata": {},
   "outputs": [
    {
     "data": {
      "text/plain": [
       "(1100, 7)"
      ]
     },
     "execution_count": 249,
     "metadata": {},
     "output_type": "execute_result"
    }
   ],
   "source": [
    "df.shape"
   ]
  },
  {
   "cell_type": "code",
   "execution_count": 250,
   "id": "4ffde3d0",
   "metadata": {},
   "outputs": [
    {
     "name": "stdout",
     "output_type": "stream",
     "text": [
      "<class 'pandas.core.frame.DataFrame'>\n",
      "RangeIndex: 1100 entries, 0 to 1099\n",
      "Data columns (total 7 columns):\n",
      " #   Column      Non-Null Count  Dtype  \n",
      "---  ------      --------------  -----  \n",
      " 0   name        1009 non-null   object \n",
      " 1   city        905 non-null    object \n",
      " 2   gender      994 non-null    object \n",
      " 3   profession  921 non-null    object \n",
      " 4   age         982 non-null    float64\n",
      " 5   cgpa        962 non-null    float64\n",
      " 6   placed      1100 non-null   int64  \n",
      "dtypes: float64(2), int64(1), object(4)\n",
      "memory usage: 60.3+ KB\n"
     ]
    }
   ],
   "source": [
    "df.info()"
   ]
  },
  {
   "cell_type": "code",
   "execution_count": 251,
   "id": "ad7f631c",
   "metadata": {},
   "outputs": [
    {
     "data": {
      "text/plain": [
       "<Axes: >"
      ]
     },
     "execution_count": 251,
     "metadata": {},
     "output_type": "execute_result"
    },
    {
     "data": {
      "image/png": "[encoded data removed]",
      "text/plain": [
       "<Figure size 640x480 with 1 Axes>"
      ]
     },
     "metadata": {},
     "output_type": "display_data"
    }
   ],
   "source": [
    "import seaborn as sns\n",
    "sns.heatmap(df.isnull(),yticklabels=False,cbar=False,cmap='viridis')"
   ]
  },
  {
   "cell_type": "code",
   "execution_count": 252,
   "id": "4ca25b86",
   "metadata": {},
   "outputs": [
    {
     "data": {
      "text/html": [
       "<div>\n",
       "<style scoped>\n",
       "    .dataframe tbody tr th:only-of-type {\n",
       "        vertical-align: middle;\n",
       "    }\n",
       "\n",
       "    .dataframe tbody tr th {\n",
       "        vertical-align: top;\n",
       "    }\n",
       "\n",
       "    .dataframe thead th {\n",
       "        text-align: right;\n",
       "    }\n",
       "</style>\n",
       "<table border=\"1\" class=\"dataframe\">\n",
       "  <thead>\n",
       "    <tr style=\"text-align: right;\">\n",
       "      <th></th>\n",
       "      <th>age</th>\n",
       "      <th>cgpa</th>\n",
       "      <th>placed</th>\n",
       "    </tr>\n",
       "  </thead>\n",
       "  <tbody>\n",
       "    <tr>\n",
       "      <th>count</th>\n",
       "      <td>982.000000</td>\n",
       "      <td>962.000000</td>\n",
       "      <td>1100.000000</td>\n",
       "    </tr>\n",
       "    <tr>\n",
       "      <th>mean</th>\n",
       "      <td>28.429735</td>\n",
       "      <td>7.609033</td>\n",
       "      <td>0.499091</td>\n",
       "    </tr>\n",
       "    <tr>\n",
       "      <th>std</th>\n",
       "      <td>9.141244</td>\n",
       "      <td>1.495991</td>\n",
       "      <td>0.500227</td>\n",
       "    </tr>\n",
       "    <tr>\n",
       "      <th>min</th>\n",
       "      <td>18.000000</td>\n",
       "      <td>4.010000</td>\n",
       "      <td>0.000000</td>\n",
       "    </tr>\n",
       "    <tr>\n",
       "      <th>25%</th>\n",
       "      <td>22.000000</td>\n",
       "      <td>7.170000</td>\n",
       "      <td>0.000000</td>\n",
       "    </tr>\n",
       "    <tr>\n",
       "      <th>50%</th>\n",
       "      <td>26.000000</td>\n",
       "      <td>7.925000</td>\n",
       "      <td>0.000000</td>\n",
       "    </tr>\n",
       "    <tr>\n",
       "      <th>75%</th>\n",
       "      <td>30.000000</td>\n",
       "      <td>8.760000</td>\n",
       "      <td>1.000000</td>\n",
       "    </tr>\n",
       "    <tr>\n",
       "      <th>max</th>\n",
       "      <td>50.000000</td>\n",
       "      <td>9.490000</td>\n",
       "      <td>1.000000</td>\n",
       "    </tr>\n",
       "  </tbody>\n",
       "</table>\n",
       "</div>"
      ],
      "text/plain": [
       "              age        cgpa       placed\n",
       "count  982.000000  962.000000  1100.000000\n",
       "mean    28.429735    7.609033     0.499091\n",
       "std      9.141244    1.495991     0.500227\n",
       "min     18.000000    4.010000     0.000000\n",
       "25%     22.000000    7.170000     0.000000\n",
       "50%     26.000000    7.925000     0.000000\n",
       "75%     30.000000    8.760000     1.000000\n",
       "max     50.000000    9.490000     1.000000"
      ]
     },
     "execution_count": 252,
     "metadata": {},
     "output_type": "execute_result"
    }
   ],
   "source": [
    "df.describe()"
   ]
  },
  {
   "cell_type": "code",
   "execution_count": 253,
   "id": "d38b6682",
   "metadata": {},
   "outputs": [
    {
     "data": {
      "text/plain": [
       "name            8\n",
       "city            4\n",
       "gender          2\n",
       "profession      3\n",
       "age            24\n",
       "cgpa          363\n",
       "placed          2\n",
       "dtype: int64"
      ]
     },
     "execution_count": 253,
     "metadata": {},
     "output_type": "execute_result"
    }
   ],
   "source": [
    "df.nunique()"
   ]
  },
  {
   "cell_type": "code",
   "execution_count": 254,
   "id": "f658d514",
   "metadata": {},
   "outputs": [
    {
     "name": "stdout",
     "output_type": "stream",
     "text": [
      "name\n",
      "----------------------------------\n",
      "name\n",
      "moriarity    280\n",
      "sam          257\n",
      "holmes       163\n",
      "dean          97\n",
      "NaN           91\n",
      "bobby         83\n",
      "watson        68\n",
      "sherlock      48\n",
      "castiel       13\n",
      "Name: count, dtype: int64\n",
      "==================================\n",
      "city\n",
      "----------------------------------\n",
      "city\n",
      "wakanda       391\n",
      "gotham        243\n",
      "NaN           195\n",
      "asgard        152\n",
      "purgatory     119\n",
      "Name: count, dtype: int64\n",
      "==================================\n",
      "gender\n",
      "----------------------------------\n",
      "gender\n",
      "male      760\n",
      "female    234\n",
      "NaN       106\n",
      "Name: count, dtype: int64\n",
      "==================================\n",
      "profession\n",
      "----------------------------------\n",
      "profession\n",
      "bachelor    517\n",
      "masters     273\n",
      "NaN         179\n",
      "phd         131\n",
      "Name: count, dtype: int64\n",
      "==================================\n",
      "age\n",
      "----------------------------------\n",
      "age\n",
      "NaN     118\n",
      "28.0     68\n",
      "30.0     68\n",
      "25.0     65\n",
      "19.0     64\n",
      "27.0     63\n",
      "21.0     62\n",
      "24.0     59\n",
      "26.0     58\n",
      "29.0     58\n",
      "23.0     57\n",
      "22.0     56\n",
      "20.0     52\n",
      "18.0     52\n",
      "47.0     26\n",
      "43.0     25\n",
      "45.0     21\n",
      "41.0     19\n",
      "50.0     18\n",
      "46.0     18\n",
      "44.0     18\n",
      "49.0     16\n",
      "40.0     15\n",
      "48.0     12\n",
      "42.0     12\n",
      "Name: count, dtype: int64\n",
      "==================================\n",
      "cgpa\n",
      "----------------------------------\n",
      "cgpa\n",
      "NaN     138\n",
      "8.35     11\n",
      "9.31      9\n",
      "8.64      8\n",
      "7.55      8\n",
      "       ... \n",
      "4.42      1\n",
      "7.98      1\n",
      "4.26      1\n",
      "8.84      1\n",
      "7.86      1\n",
      "Name: count, Length: 364, dtype: int64\n",
      "==================================\n",
      "placed\n",
      "----------------------------------\n",
      "placed\n",
      "0    551\n",
      "1    549\n",
      "Name: count, dtype: int64\n",
      "==================================\n"
     ]
    }
   ],
   "source": [
    "feature_names = df.columns.tolist()\n",
    "for column in feature_names:\n",
    "    print(column)\n",
    "    print(\"----------------------------------\")\n",
    "    print(df[column].value_counts(dropna=False))\n",
    "    print(\"==================================\")"
   ]
  },
  {
   "cell_type": "markdown",
   "id": "b1ea8bea",
   "metadata": {},
   "source": [
    "## Выделение целевой переменной"
   ]
  },
  {
   "cell_type": "code",
   "execution_count": 255,
   "id": "a156a372",
   "metadata": {},
   "outputs": [
    {
     "name": "stdout",
     "output_type": "stream",
     "text": [
      "        name    city  gender profession   age  cgpa\n",
      "0  moriarity     NaN  female        phd  28.0  5.94\n",
      "1  moriarity  asgard     NaN   bachelor  50.0  8.55\n",
      "2     holmes     NaN  female    masters  18.0  5.56\n",
      "3        sam     NaN    male   bachelor  25.0  8.57\n",
      "4        sam     NaN    male   bachelor  19.0  8.76\n"
     ]
    }
   ],
   "source": [
    "features = df.drop('placed', axis=1)\n",
    "labels = df['placed']\n",
    "print(features.head())"
   ]
  },
  {
   "cell_type": "markdown",
   "id": "19df341b",
   "metadata": {},
   "source": [
    "## Чистка датасета"
   ]
  },
  {
   "cell_type": "markdown",
   "id": "bf795bd4",
   "metadata": {},
   "source": [
    "### Обработка пропусков данных"
   ]
  },
  {
   "cell_type": "code",
   "execution_count": 256,
   "id": "c26e0444",
   "metadata": {},
   "outputs": [
    {
     "name": "stdout",
     "output_type": "stream",
     "text": [
      "name           91\n",
      "city          195\n",
      "gender        106\n",
      "profession    179\n",
      "age           118\n",
      "cgpa          138\n",
      "placed          0\n",
      "dtype: int64\n"
     ]
    }
   ],
   "source": [
    "def print_missing_values(df):\n",
    "    missing_counts = df.isnull().sum()\n",
    "    print(missing_counts)\n",
    "\n",
    "print_missing_values(df)"
   ]
  },
  {
   "cell_type": "code",
   "execution_count": 257,
   "id": "8d42f6d5",
   "metadata": {},
   "outputs": [
    {
     "name": "stdout",
     "output_type": "stream",
     "text": [
      "name            0\n",
      "city          195\n",
      "gender        106\n",
      "profession    179\n",
      "age           118\n",
      "cgpa          138\n",
      "placed          0\n",
      "dtype: int64\n"
     ]
    },
    {
     "name": "stderr",
     "output_type": "stream",
     "text": [
      "C:\\Users\\danii\\AppData\\Local\\Temp\\ipykernel_24596\\3360007512.py:1: FutureWarning: A value is trying to be set on a copy of a DataFrame or Series through chained assignment using an inplace method.\n",
      "The behavior will change in pandas 3.0. This inplace method will never work because the intermediate object on which we are setting values always behaves as a copy.\n",
      "\n",
      "For example, when doing 'df[col].method(value, inplace=True)', try using 'df.method({col: value}, inplace=True)' or df[col] = df[col].method(value) instead, to perform the operation inplace on the original object.\n",
      "\n",
      "\n",
      "  df['name'].fillna('unknown', inplace=True)\n"
     ]
    }
   ],
   "source": [
    "df['name'].fillna('unknown', inplace=True)\n",
    "print_missing_values(df)"
   ]
  },
  {
   "cell_type": "code",
   "execution_count": 258,
   "id": "be4fa420",
   "metadata": {},
   "outputs": [
    {
     "name": "stdout",
     "output_type": "stream",
     "text": [
      "name            0\n",
      "city            0\n",
      "gender        106\n",
      "profession    179\n",
      "age           118\n",
      "cgpa          138\n",
      "placed          0\n",
      "dtype: int64\n"
     ]
    },
    {
     "name": "stderr",
     "output_type": "stream",
     "text": [
      "C:\\Users\\danii\\AppData\\Local\\Temp\\ipykernel_24596\\1293763835.py:1: FutureWarning: A value is trying to be set on a copy of a DataFrame or Series through chained assignment using an inplace method.\n",
      "The behavior will change in pandas 3.0. This inplace method will never work because the intermediate object on which we are setting values always behaves as a copy.\n",
      "\n",
      "For example, when doing 'df[col].method(value, inplace=True)', try using 'df.method({col: value}, inplace=True)' or df[col] = df[col].method(value) instead, to perform the operation inplace on the original object.\n",
      "\n",
      "\n",
      "  df['city'].fillna('unknown', inplace=True)\n"
     ]
    }
   ],
   "source": [
    "df['city'].fillna('unknown', inplace=True)\n",
    "print_missing_values(df)"
   ]
  },
  {
   "cell_type": "code",
   "execution_count": 259,
   "id": "9a13103c",
   "metadata": {},
   "outputs": [
    {
     "name": "stdout",
     "output_type": "stream",
     "text": [
      "name          0\n",
      "city          0\n",
      "gender        0\n",
      "profession    0\n",
      "age           0\n",
      "cgpa          0\n",
      "placed        0\n",
      "dtype: int64\n"
     ]
    },
    {
     "name": "stderr",
     "output_type": "stream",
     "text": [
      "C:\\Users\\danii\\AppData\\Local\\Temp\\ipykernel_24596\\148483356.py:1: FutureWarning: A value is trying to be set on a copy of a DataFrame or Series through chained assignment using an inplace method.\n",
      "The behavior will change in pandas 3.0. This inplace method will never work because the intermediate object on which we are setting values always behaves as a copy.\n",
      "\n",
      "For example, when doing 'df[col].method(value, inplace=True)', try using 'df.method({col: value}, inplace=True)' or df[col] = df[col].method(value) instead, to perform the operation inplace on the original object.\n",
      "\n",
      "\n",
      "  df['gender'].fillna('unknown', inplace=True)\n",
      "C:\\Users\\danii\\AppData\\Local\\Temp\\ipykernel_24596\\148483356.py:2: FutureWarning: A value is trying to be set on a copy of a DataFrame or Series through chained assignment using an inplace method.\n",
      "The behavior will change in pandas 3.0. This inplace method will never work because the intermediate object on which we are setting values always behaves as a copy.\n",
      "\n",
      "For example, when doing 'df[col].method(value, inplace=True)', try using 'df.method({col: value}, inplace=True)' or df[col] = df[col].method(value) instead, to perform the operation inplace on the original object.\n",
      "\n",
      "\n",
      "  df['profession'].fillna('unknown', inplace=True)\n"
     ]
    }
   ],
   "source": [
    "df['gender'].fillna('unknown', inplace=True)\n",
    "df['profession'].fillna('unknown', inplace=True)\n",
    "df['age'] = df['age'].fillna(df['age'].mean())\n",
    "df['cgpa'] = df['cgpa'].fillna(df['cgpa'].mean())\n",
    "print_missing_values(df)\n"
   ]
  },
  {
   "cell_type": "markdown",
   "id": "664cbd3b",
   "metadata": {},
   "source": [
    "### Обнаружение выбросов"
   ]
  },
  {
   "cell_type": "code",
   "execution_count": 260,
   "id": "b8da9a80",
   "metadata": {},
   "outputs": [
    {
     "data": {
      "image/png": "[encoded data removed]",
      "text/plain": [
       "<Figure size 1500x500 with 3 Axes>"
      ]
     },
     "metadata": {},
     "output_type": "display_data"
    }
   ],
   "source": [
    "import matplotlib.pyplot as plt\n",
    "\n",
    "numeric_cols = df.select_dtypes(include='number').columns\n",
    "df[numeric_cols].plot(kind='box', subplots=True, layout=(1, len(numeric_cols)), figsize=(5 * len(numeric_cols), 5), sharey=False)\n",
    "plt.tight_layout()\n",
    "plt.show()\n"
   ]
  },
  {
   "cell_type": "code",
   "execution_count": null,
   "id": "d8adf67d",
   "metadata": {},
   "outputs": [],
   "source": []
  },
  {
   "cell_type": "code",
   "execution_count": 261,
   "id": "f16ad589",
   "metadata": {},
   "outputs": [
    {
     "data": {
      "text/html": [
       "<div>\n",
       "<style scoped>\n",
       "    .dataframe tbody tr th:only-of-type {\n",
       "        vertical-align: middle;\n",
       "    }\n",
       "\n",
       "    .dataframe tbody tr th {\n",
       "        vertical-align: top;\n",
       "    }\n",
       "\n",
       "    .dataframe thead th {\n",
       "        text-align: right;\n",
       "    }\n",
       "</style>\n",
       "<table border=\"1\" class=\"dataframe\">\n",
       "  <thead>\n",
       "    <tr style=\"text-align: right;\">\n",
       "      <th></th>\n",
       "      <th>name</th>\n",
       "      <th>city</th>\n",
       "      <th>gender</th>\n",
       "      <th>profession</th>\n",
       "      <th>age</th>\n",
       "      <th>cgpa</th>\n",
       "      <th>placed</th>\n",
       "    </tr>\n",
       "  </thead>\n",
       "  <tbody>\n",
       "    <tr>\n",
       "      <th>count</th>\n",
       "      <td>1100</td>\n",
       "      <td>1100</td>\n",
       "      <td>1100</td>\n",
       "      <td>1100</td>\n",
       "      <td>1100.000000</td>\n",
       "      <td>1100.000000</td>\n",
       "      <td>1100.000000</td>\n",
       "    </tr>\n",
       "    <tr>\n",
       "      <th>unique</th>\n",
       "      <td>9</td>\n",
       "      <td>5</td>\n",
       "      <td>3</td>\n",
       "      <td>4</td>\n",
       "      <td>NaN</td>\n",
       "      <td>NaN</td>\n",
       "      <td>NaN</td>\n",
       "    </tr>\n",
       "    <tr>\n",
       "      <th>top</th>\n",
       "      <td>moriarity</td>\n",
       "      <td>wakanda</td>\n",
       "      <td>male</td>\n",
       "      <td>bachelor</td>\n",
       "      <td>NaN</td>\n",
       "      <td>NaN</td>\n",
       "      <td>NaN</td>\n",
       "    </tr>\n",
       "    <tr>\n",
       "      <th>freq</th>\n",
       "      <td>280</td>\n",
       "      <td>391</td>\n",
       "      <td>760</td>\n",
       "      <td>517</td>\n",
       "      <td>NaN</td>\n",
       "      <td>NaN</td>\n",
       "      <td>NaN</td>\n",
       "    </tr>\n",
       "    <tr>\n",
       "      <th>mean</th>\n",
       "      <td>NaN</td>\n",
       "      <td>NaN</td>\n",
       "      <td>NaN</td>\n",
       "      <td>NaN</td>\n",
       "      <td>28.429735</td>\n",
       "      <td>7.609033</td>\n",
       "      <td>0.499091</td>\n",
       "    </tr>\n",
       "    <tr>\n",
       "      <th>std</th>\n",
       "      <td>NaN</td>\n",
       "      <td>NaN</td>\n",
       "      <td>NaN</td>\n",
       "      <td>NaN</td>\n",
       "      <td>8.636563</td>\n",
       "      <td>1.398916</td>\n",
       "      <td>0.500227</td>\n",
       "    </tr>\n",
       "    <tr>\n",
       "      <th>min</th>\n",
       "      <td>NaN</td>\n",
       "      <td>NaN</td>\n",
       "      <td>NaN</td>\n",
       "      <td>NaN</td>\n",
       "      <td>18.000000</td>\n",
       "      <td>4.010000</td>\n",
       "      <td>0.000000</td>\n",
       "    </tr>\n",
       "    <tr>\n",
       "      <th>25%</th>\n",
       "      <td>NaN</td>\n",
       "      <td>NaN</td>\n",
       "      <td>NaN</td>\n",
       "      <td>NaN</td>\n",
       "      <td>22.000000</td>\n",
       "      <td>7.270000</td>\n",
       "      <td>0.000000</td>\n",
       "    </tr>\n",
       "    <tr>\n",
       "      <th>50%</th>\n",
       "      <td>NaN</td>\n",
       "      <td>NaN</td>\n",
       "      <td>NaN</td>\n",
       "      <td>NaN</td>\n",
       "      <td>27.000000</td>\n",
       "      <td>7.730000</td>\n",
       "      <td>0.000000</td>\n",
       "    </tr>\n",
       "    <tr>\n",
       "      <th>75%</th>\n",
       "      <td>NaN</td>\n",
       "      <td>NaN</td>\n",
       "      <td>NaN</td>\n",
       "      <td>NaN</td>\n",
       "      <td>29.000000</td>\n",
       "      <td>8.640000</td>\n",
       "      <td>1.000000</td>\n",
       "    </tr>\n",
       "    <tr>\n",
       "      <th>max</th>\n",
       "      <td>NaN</td>\n",
       "      <td>NaN</td>\n",
       "      <td>NaN</td>\n",
       "      <td>NaN</td>\n",
       "      <td>50.000000</td>\n",
       "      <td>9.490000</td>\n",
       "      <td>1.000000</td>\n",
       "    </tr>\n",
       "  </tbody>\n",
       "</table>\n",
       "</div>"
      ],
      "text/plain": [
       "             name     city gender profession          age         cgpa  \\\n",
       "count        1100     1100   1100       1100  1100.000000  1100.000000   \n",
       "unique          9        5      3          4          NaN          NaN   \n",
       "top     moriarity  wakanda   male   bachelor          NaN          NaN   \n",
       "freq          280      391    760        517          NaN          NaN   \n",
       "mean          NaN      NaN    NaN        NaN    28.429735     7.609033   \n",
       "std           NaN      NaN    NaN        NaN     8.636563     1.398916   \n",
       "min           NaN      NaN    NaN        NaN    18.000000     4.010000   \n",
       "25%           NaN      NaN    NaN        NaN    22.000000     7.270000   \n",
       "50%           NaN      NaN    NaN        NaN    27.000000     7.730000   \n",
       "75%           NaN      NaN    NaN        NaN    29.000000     8.640000   \n",
       "max           NaN      NaN    NaN        NaN    50.000000     9.490000   \n",
       "\n",
       "             placed  \n",
       "count   1100.000000  \n",
       "unique          NaN  \n",
       "top             NaN  \n",
       "freq            NaN  \n",
       "mean       0.499091  \n",
       "std        0.500227  \n",
       "min        0.000000  \n",
       "25%        0.000000  \n",
       "50%        0.000000  \n",
       "75%        1.000000  \n",
       "max        1.000000  "
      ]
     },
     "execution_count": 261,
     "metadata": {},
     "output_type": "execute_result"
    }
   ],
   "source": [
    "df.describe(include='all')"
   ]
  },
  {
   "cell_type": "code",
   "execution_count": 262,
   "id": "ef4436fe",
   "metadata": {},
   "outputs": [
    {
     "data": {
      "image/png": "[encoded data removed]",
      "text/plain": [
       "<Figure size 1500x500 with 3 Axes>"
      ]
     },
     "metadata": {},
     "output_type": "display_data"
    }
   ],
   "source": [
    "import matplotlib.pyplot as plt\n",
    "\n",
    "numeric_cols = df.select_dtypes(include='number').columns\n",
    "df[numeric_cols].plot(kind='box', subplots=True, layout=(1, len(numeric_cols)), figsize=(5 * len(numeric_cols), 5), sharey=False)\n",
    "plt.tight_layout()\n",
    "plt.show()"
   ]
  },
  {
   "cell_type": "code",
   "execution_count": 263,
   "id": "ca7b33e5",
   "metadata": {},
   "outputs": [],
   "source": [
    "# df['cgpa'] = df['cgpa'].clip(lower=5, upper=9)\n"
   ]
  },
  {
   "cell_type": "code",
   "execution_count": 264,
   "id": "00395da3",
   "metadata": {},
   "outputs": [],
   "source": [
    "# numeric_cols = df.select_dtypes(include='number').columns\n",
    "# df[numeric_cols].plot(kind='box', subplots=True, layout=(1, len(numeric_cols)), figsize=(5 * len(numeric_cols), 5), sharey=False)\n",
    "# plt.tight_layout()\n",
    "# plt.show()"
   ]
  },
  {
   "cell_type": "code",
   "execution_count": 265,
   "id": "f9763d63",
   "metadata": {},
   "outputs": [],
   "source": [
    "# df.describe(include='all')"
   ]
  },
  {
   "cell_type": "code",
   "execution_count": 266,
   "id": "884e8d3f",
   "metadata": {},
   "outputs": [
    {
     "data": {
      "text/plain": [
       "np.int64(0)"
      ]
     },
     "execution_count": 266,
     "metadata": {},
     "output_type": "execute_result"
    }
   ],
   "source": [
    "df['age'].isna().sum()"
   ]
  },
  {
   "cell_type": "code",
   "execution_count": 267,
   "id": "25bfcb27",
   "metadata": {},
   "outputs": [
    {
     "name": "stdout",
     "output_type": "stream",
     "text": [
      "name          0\n",
      "city          0\n",
      "gender        0\n",
      "profession    0\n",
      "age           0\n",
      "cgpa          0\n",
      "placed        0\n",
      "dtype: int64\n"
     ]
    }
   ],
   "source": [
    "print(df.isna().sum())\n"
   ]
  },
  {
   "cell_type": "code",
   "execution_count": 268,
   "id": "7e053964",
   "metadata": {},
   "outputs": [
    {
     "name": "stderr",
     "output_type": "stream",
     "text": [
      "C:\\Users\\danii\\AppData\\Local\\Temp\\ipykernel_24596\\3711957750.py:1: FutureWarning: A value is trying to be set on a copy of a DataFrame or Series through chained assignment using an inplace method.\n",
      "The behavior will change in pandas 3.0. This inplace method will never work because the intermediate object on which we are setting values always behaves as a copy.\n",
      "\n",
      "For example, when doing 'df[col].method(value, inplace=True)', try using 'df.method({col: value}, inplace=True)' or df[col] = df[col].method(value) instead, to perform the operation inplace on the original object.\n",
      "\n",
      "\n",
      "  df['city'].fillna('unknown', inplace=True)\n"
     ]
    },
    {
     "data": {
      "text/plain": [
       "np.int64(0)"
      ]
     },
     "execution_count": 268,
     "metadata": {},
     "output_type": "execute_result"
    }
   ],
   "source": [
    "df['city'].fillna('unknown', inplace=True)\n",
    "df['city'].isna().sum()"
   ]
  },
  {
   "cell_type": "code",
   "execution_count": 269,
   "id": "557f0989",
   "metadata": {},
   "outputs": [
    {
     "name": "stderr",
     "output_type": "stream",
     "text": [
      "C:\\Users\\danii\\AppData\\Local\\Temp\\ipykernel_24596\\216788189.py:1: FutureWarning: A value is trying to be set on a copy of a DataFrame or Series through chained assignment using an inplace method.\n",
      "The behavior will change in pandas 3.0. This inplace method will never work because the intermediate object on which we are setting values always behaves as a copy.\n",
      "\n",
      "For example, when doing 'df[col].method(value, inplace=True)', try using 'df.method({col: value}, inplace=True)' or df[col] = df[col].method(value) instead, to perform the operation inplace on the original object.\n",
      "\n",
      "\n",
      "  df['gender'].fillna('unknown', inplace=True)\n"
     ]
    },
    {
     "data": {
      "text/plain": [
       "np.int64(0)"
      ]
     },
     "execution_count": 269,
     "metadata": {},
     "output_type": "execute_result"
    }
   ],
   "source": [
    "df['gender'].fillna('unknown', inplace=True)\n",
    "df['gender'].isna().sum()"
   ]
  },
  {
   "cell_type": "code",
   "execution_count": 270,
   "id": "f39dcd35",
   "metadata": {},
   "outputs": [
    {
     "name": "stderr",
     "output_type": "stream",
     "text": [
      "C:\\Users\\danii\\AppData\\Local\\Temp\\ipykernel_24596\\764807980.py:1: FutureWarning: A value is trying to be set on a copy of a DataFrame or Series through chained assignment using an inplace method.\n",
      "The behavior will change in pandas 3.0. This inplace method will never work because the intermediate object on which we are setting values always behaves as a copy.\n",
      "\n",
      "For example, when doing 'df[col].method(value, inplace=True)', try using 'df.method({col: value}, inplace=True)' or df[col] = df[col].method(value) instead, to perform the operation inplace on the original object.\n",
      "\n",
      "\n",
      "  df['profession'].fillna('unknown', inplace=True)\n"
     ]
    },
    {
     "data": {
      "text/plain": [
       "np.int64(0)"
      ]
     },
     "execution_count": 270,
     "metadata": {},
     "output_type": "execute_result"
    }
   ],
   "source": [
    "df['profession'].fillna('unknown', inplace=True)\n",
    "df['profession'].isna().sum()"
   ]
  },
  {
   "cell_type": "code",
   "execution_count": 271,
   "id": "a3146a95",
   "metadata": {},
   "outputs": [
    {
     "name": "stdout",
     "output_type": "stream",
     "text": [
      "name          0\n",
      "city          0\n",
      "gender        0\n",
      "profession    0\n",
      "age           0\n",
      "cgpa          0\n",
      "placed        0\n",
      "dtype: int64\n"
     ]
    }
   ],
   "source": [
    "print(df.isna().sum())"
   ]
  },
  {
   "cell_type": "code",
   "execution_count": 272,
   "id": "3f4cd039",
   "metadata": {},
   "outputs": [],
   "source": [
    "df['cgpa'] = df['cgpa'].fillna(0)"
   ]
  },
  {
   "cell_type": "code",
   "execution_count": 273,
   "id": "5d03f216",
   "metadata": {},
   "outputs": [
    {
     "name": "stdout",
     "output_type": "stream",
     "text": [
      "name          0\n",
      "city          0\n",
      "gender        0\n",
      "profession    0\n",
      "age           0\n",
      "cgpa          0\n",
      "placed        0\n",
      "dtype: int64\n"
     ]
    }
   ],
   "source": [
    "print(df.isna().sum())"
   ]
  },
  {
   "cell_type": "code",
   "execution_count": 274,
   "id": "2ea0d3f8",
   "metadata": {},
   "outputs": [
    {
     "data": {
      "text/html": [
       "<div>\n",
       "<style scoped>\n",
       "    .dataframe tbody tr th:only-of-type {\n",
       "        vertical-align: middle;\n",
       "    }\n",
       "\n",
       "    .dataframe tbody tr th {\n",
       "        vertical-align: top;\n",
       "    }\n",
       "\n",
       "    .dataframe thead th {\n",
       "        text-align: right;\n",
       "    }\n",
       "</style>\n",
       "<table border=\"1\" class=\"dataframe\">\n",
       "  <thead>\n",
       "    <tr style=\"text-align: right;\">\n",
       "      <th></th>\n",
       "      <th>name</th>\n",
       "      <th>city</th>\n",
       "      <th>gender</th>\n",
       "      <th>profession</th>\n",
       "      <th>age</th>\n",
       "      <th>cgpa</th>\n",
       "      <th>placed</th>\n",
       "    </tr>\n",
       "  </thead>\n",
       "  <tbody>\n",
       "    <tr>\n",
       "      <th>count</th>\n",
       "      <td>1100</td>\n",
       "      <td>1100</td>\n",
       "      <td>1100</td>\n",
       "      <td>1100</td>\n",
       "      <td>1100.000000</td>\n",
       "      <td>1100.000000</td>\n",
       "      <td>1100.000000</td>\n",
       "    </tr>\n",
       "    <tr>\n",
       "      <th>unique</th>\n",
       "      <td>9</td>\n",
       "      <td>5</td>\n",
       "      <td>3</td>\n",
       "      <td>4</td>\n",
       "      <td>NaN</td>\n",
       "      <td>NaN</td>\n",
       "      <td>NaN</td>\n",
       "    </tr>\n",
       "    <tr>\n",
       "      <th>top</th>\n",
       "      <td>moriarity</td>\n",
       "      <td>wakanda</td>\n",
       "      <td>male</td>\n",
       "      <td>bachelor</td>\n",
       "      <td>NaN</td>\n",
       "      <td>NaN</td>\n",
       "      <td>NaN</td>\n",
       "    </tr>\n",
       "    <tr>\n",
       "      <th>freq</th>\n",
       "      <td>280</td>\n",
       "      <td>391</td>\n",
       "      <td>760</td>\n",
       "      <td>517</td>\n",
       "      <td>NaN</td>\n",
       "      <td>NaN</td>\n",
       "      <td>NaN</td>\n",
       "    </tr>\n",
       "    <tr>\n",
       "      <th>mean</th>\n",
       "      <td>NaN</td>\n",
       "      <td>NaN</td>\n",
       "      <td>NaN</td>\n",
       "      <td>NaN</td>\n",
       "      <td>28.429735</td>\n",
       "      <td>7.609033</td>\n",
       "      <td>0.499091</td>\n",
       "    </tr>\n",
       "    <tr>\n",
       "      <th>std</th>\n",
       "      <td>NaN</td>\n",
       "      <td>NaN</td>\n",
       "      <td>NaN</td>\n",
       "      <td>NaN</td>\n",
       "      <td>8.636563</td>\n",
       "      <td>1.398916</td>\n",
       "      <td>0.500227</td>\n",
       "    </tr>\n",
       "    <tr>\n",
       "      <th>min</th>\n",
       "      <td>NaN</td>\n",
       "      <td>NaN</td>\n",
       "      <td>NaN</td>\n",
       "      <td>NaN</td>\n",
       "      <td>18.000000</td>\n",
       "      <td>4.010000</td>\n",
       "      <td>0.000000</td>\n",
       "    </tr>\n",
       "    <tr>\n",
       "      <th>25%</th>\n",
       "      <td>NaN</td>\n",
       "      <td>NaN</td>\n",
       "      <td>NaN</td>\n",
       "      <td>NaN</td>\n",
       "      <td>22.000000</td>\n",
       "      <td>7.270000</td>\n",
       "      <td>0.000000</td>\n",
       "    </tr>\n",
       "    <tr>\n",
       "      <th>50%</th>\n",
       "      <td>NaN</td>\n",
       "      <td>NaN</td>\n",
       "      <td>NaN</td>\n",
       "      <td>NaN</td>\n",
       "      <td>27.000000</td>\n",
       "      <td>7.730000</td>\n",
       "      <td>0.000000</td>\n",
       "    </tr>\n",
       "    <tr>\n",
       "      <th>75%</th>\n",
       "      <td>NaN</td>\n",
       "      <td>NaN</td>\n",
       "      <td>NaN</td>\n",
       "      <td>NaN</td>\n",
       "      <td>29.000000</td>\n",
       "      <td>8.640000</td>\n",
       "      <td>1.000000</td>\n",
       "    </tr>\n",
       "    <tr>\n",
       "      <th>max</th>\n",
       "      <td>NaN</td>\n",
       "      <td>NaN</td>\n",
       "      <td>NaN</td>\n",
       "      <td>NaN</td>\n",
       "      <td>50.000000</td>\n",
       "      <td>9.490000</td>\n",
       "      <td>1.000000</td>\n",
       "    </tr>\n",
       "  </tbody>\n",
       "</table>\n",
       "</div>"
      ],
      "text/plain": [
       "             name     city gender profession          age         cgpa  \\\n",
       "count        1100     1100   1100       1100  1100.000000  1100.000000   \n",
       "unique          9        5      3          4          NaN          NaN   \n",
       "top     moriarity  wakanda   male   bachelor          NaN          NaN   \n",
       "freq          280      391    760        517          NaN          NaN   \n",
       "mean          NaN      NaN    NaN        NaN    28.429735     7.609033   \n",
       "std           NaN      NaN    NaN        NaN     8.636563     1.398916   \n",
       "min           NaN      NaN    NaN        NaN    18.000000     4.010000   \n",
       "25%           NaN      NaN    NaN        NaN    22.000000     7.270000   \n",
       "50%           NaN      NaN    NaN        NaN    27.000000     7.730000   \n",
       "75%           NaN      NaN    NaN        NaN    29.000000     8.640000   \n",
       "max           NaN      NaN    NaN        NaN    50.000000     9.490000   \n",
       "\n",
       "             placed  \n",
       "count   1100.000000  \n",
       "unique          NaN  \n",
       "top             NaN  \n",
       "freq            NaN  \n",
       "mean       0.499091  \n",
       "std        0.500227  \n",
       "min        0.000000  \n",
       "25%        0.000000  \n",
       "50%        0.000000  \n",
       "75%        1.000000  \n",
       "max        1.000000  "
      ]
     },
     "execution_count": 274,
     "metadata": {},
     "output_type": "execute_result"
    }
   ],
   "source": [
    "df.describe(include='all')"
   ]
  },
  {
   "cell_type": "markdown",
   "id": "8ea37d3b",
   "metadata": {},
   "source": [
    "### Кодирование данных\n"
   ]
  },
  {
   "cell_type": "code",
   "execution_count": 275,
   "id": "e41519f9",
   "metadata": {},
   "outputs": [],
   "source": [
    "from sklearn import preprocessing\n",
    "label_encoder = preprocessing.LabelEncoder()\n",
    "label_encoder.fit(features['city'])\n",
    "label_encoder.transform(features['city'])\n",
    "label_encoder.fit(features['gender'])\n",
    "label_encoder.transform(features['gender'])\n",
    "label_encoder.fit(features['profession'])\n",
    "label_encoder.transform(features['profession'])\n",
    "\n",
    "features['city'] = label_encoder.fit_transform(features['city'])\n",
    "features['gender'] = label_encoder.fit_transform(features['gender'])\n",
    "features['profession'] = label_encoder.fit_transform(features['profession'])\n",
    "\n"
   ]
  },
  {
   "cell_type": "markdown",
   "id": "ba0c6ec7",
   "metadata": {},
   "source": [
    "### Зависимости в данных"
   ]
  },
  {
   "cell_type": "code",
   "execution_count": 276,
   "id": "c3901e5e",
   "metadata": {},
   "outputs": [
    {
     "name": "stdout",
     "output_type": "stream",
     "text": [
      "            city  gender  profession   age  cgpa\n",
      "city        1.00   -0.02       -0.01  0.03  0.02\n",
      "gender     -0.02    1.00        0.01  0.00  0.02\n",
      "profession -0.01    0.01        1.00 -0.02  0.02\n",
      "age         0.03    0.00       -0.02  1.00 -0.06\n",
      "cgpa        0.02    0.02        0.02 -0.06  1.00\n"
     ]
    },
    {
     "data": {
      "image/png": "[encoded data removed]",
      "text/plain": [
       "<Figure size 640x480 with 2 Axes>"
      ]
     },
     "metadata": {},
     "output_type": "display_data"
    }
   ],
   "source": [
    "import numpy as np\n",
    "var_corr = round(features.corr(numeric_only=True),2)\n",
    "print(var_corr)\n",
    "mask = np.zeros_like(var_corr)\n",
    "sns.heatmap(var_corr\n",
    "                , mask = mask\n",
    "                , square = True\n",
    "                , annot = True\n",
    "                , annot_kws={'size': 10.5, 'weight' : 'bold'}\n",
    "                , cmap=plt.get_cmap(\"RdYlBu\")\n",
    "                , linewidths=.1)\n",
    "plt.title('Карта корреляции', fontsize=14)\n",
    "plt.show()"
   ]
  },
  {
   "cell_type": "markdown",
   "id": "44dfb95a",
   "metadata": {},
   "source": [
    "### Нормализация данных"
   ]
  },
  {
   "cell_type": "code",
   "execution_count": 277,
   "id": "6e2b297f",
   "metadata": {},
   "outputs": [
    {
     "name": "stdout",
     "output_type": "stream",
     "text": [
      "        name  city  gender  profession       age  cgpa\n",
      "0  moriarity     4       0           2 -0.047035  5.94\n",
      "1  moriarity     0       2           0  2.360866  8.55\n",
      "2     holmes     4       0           1 -1.141535  5.56\n",
      "3        sam     4       1           0 -0.375385  8.57\n",
      "4        sam     4       1           0 -1.032085  8.76\n"
     ]
    }
   ],
   "source": [
    "#нормализация на стандартное отклонение\n",
    "from sklearn.preprocessing import StandardScaler\n",
    "scale_features_std = StandardScaler()\n",
    "features[['age']]=scale_features_std.fit_transform(features[['age']])\n",
    "print(features.head())"
   ]
  },
  {
   "cell_type": "markdown",
   "id": "c57c920a",
   "metadata": {},
   "source": [
    "### Разделение данных для обучения и тестирования"
   ]
  },
  {
   "cell_type": "code",
   "execution_count": 279,
   "id": "7af8082f",
   "metadata": {},
   "outputs": [
    {
     "name": "stdout",
     "output_type": "stream",
     "text": [
      "(1100, 6)\n",
      "(880, 6)\n",
      "(220, 6)\n"
     ]
    }
   ],
   "source": [
    "from sklearn.model_selection import train_test_split\n",
    "\n",
    "features_train, features_test, labels_train, labels_test = train_test_split(features, labels, test_size=0.2, random_state = 0)\n",
    "\n",
    "print(features.shape)\n",
    "print(features_train.shape)\n",
    "print(features_test.shape)"
   ]
  }
 ],
 "metadata": {
  "kernelspec": {
   "display_name": "Python 3 (ipykernel)",
   "language": "python",
   "name": "python3"
  },
  "language_info": {
   "codemirror_mode": {
    "name": "ipython",
    "version": 3
   },
   "file_extension": ".py",
   "mimetype": "text/x-python",
   "name": "python",
   "nbconvert_exporter": "python",
   "pygments_lexer": "ipython3",
   "version": "3.12.5"
  }
 },
 "nbformat": 4,
 "nbformat_minor": 5
}
